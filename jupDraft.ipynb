{
 "cells": [
  {
   "cell_type": "code",
   "execution_count": 1,
   "metadata": {},
   "outputs": [],
   "source": [
    "from dash import Dash, html, dcc\n",
    "import plotly.express as px\n",
    "import pandas as pd\n",
    "app = Dash(__name__)"
   ]
  },
  {
   "cell_type": "code",
   "execution_count": 3,
   "metadata": {},
   "outputs": [
    {
     "name": "stdout",
     "output_type": "stream",
     "text": [
      "['uuid', 'State', 'Streptomycin', 'Time']\n"
     ]
    }
   ],
   "source": [
    "df=pd.read_csv(\"./data/shinyMetadat.csv\")\n",
    "print(list(df.columns))\n",
    "\n",
    "app.layout= html.Div([\n",
    "    html.H1('Viz app'),\n",
    "    html.Div([\n",
    "        dcc.Dropdown(id='dropdown',\n",
    "        options= [ \n",
    "            {'label':'State', 'value':'State'},\n",
    "            {'label':'Streptomycin', 'value':'Streptomycin'},\n",
    "            ],\n",
    "        value='State')]),\n",
    "    dcc.Graph(id='Freq')\n",
    "\n",
    "    ])\n"
   ]
  },
  {
   "cell_type": "code",
   "execution_count": null,
   "metadata": {},
   "outputs": [],
   "source": [
    "%reset"
   ]
  }
 ],
 "metadata": {
  "interpreter": {
   "hash": "7cfc0971d1ffe5269159892a6bd38447e1567099cb2bd4be039170e1db06926b"
  },
  "kernelspec": {
   "display_name": "Python 3.10.2 64-bit",
   "language": "python",
   "name": "python3"
  },
  "language_info": {
   "codemirror_mode": {
    "name": "ipython",
    "version": 3
   },
   "file_extension": ".py",
   "mimetype": "text/x-python",
   "name": "python",
   "nbconvert_exporter": "python",
   "pygments_lexer": "ipython3",
   "version": "3.10.2"
  },
  "orig_nbformat": 4
 },
 "nbformat": 4,
 "nbformat_minor": 2
}
